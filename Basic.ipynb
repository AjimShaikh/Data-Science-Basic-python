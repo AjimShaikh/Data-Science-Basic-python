{
 "cells": [
  {
   "cell_type": "code",
   "execution_count": null,
   "id": "5eb715f0",
   "metadata": {},
   "outputs": [],
   "source": [
    "# Basic Python"
   ]
  },
  {
   "cell_type": "markdown",
   "id": "b3cae821",
   "metadata": {},
   "source": [
    "#Read radius of the circle from user and find the area and perimeter of it."
   ]
  },
  {
   "cell_type": "code",
   "execution_count": 1,
   "id": "da871c50",
   "metadata": {},
   "outputs": [
    {
     "name": "stdout",
     "output_type": "stream",
     "text": [
      "enter radius of circle: 10\n",
      "area of circle is 314.0\n",
      "are of perimeter is 62.800000000000004\n"
     ]
    }
   ],
   "source": [
    "r = float(input(\"enter radius of circle: \"))\n",
    "area=3.14*r*r\n",
    "perimeter = 2*3.14*r\n",
    "print(\"area of circle is\",area)\n",
    "print(\"are of perimeter is\",perimeter)"
   ]
  },
  {
   "cell_type": "markdown",
   "id": "ff72787b",
   "metadata": {},
   "source": [
    "#Read the amount and percentage of interest from the keyboard and find final amount after adding interest in the original amount."
   ]
  },
  {
   "cell_type": "code",
   "execution_count": 6,
   "id": "57879693",
   "metadata": {},
   "outputs": [
    {
     "name": "stdout",
     "output_type": "stream",
     "text": [
      "enter the amount1000\n",
      "enter the Interest10\n",
      "enter the time1\n",
      "Total Amount After Interest Add :   1100.0\n",
      "Total Interest : 100.0\n"
     ]
    }
   ],
   "source": [
    "a = int(input(\"enter the amount\"))\n",
    "i = int(input(\"enter the Interest\"))\n",
    "time = float(input(\"enter the time\"))\n",
    "\n",
    "t = (a*i*time)/100\n",
    "total = t+a\n",
    "print('Total Amount After Interest Add :  ',total)\n",
    "print(\"Total Interest :\",t)"
   ]
  },
  {
   "cell_type": "markdown",
   "id": "112812e7",
   "metadata": {},
   "source": [
    "#Write a program to read distance value in meters and convert it into centimetres, inches, and yards."
   ]
  },
  {
   "cell_type": "code",
   "execution_count": 7,
   "id": "72afdfa7",
   "metadata": {},
   "outputs": [
    {
     "name": "stdout",
     "output_type": "stream",
     "text": [
      "Enter the meter: 10\n",
      "1000.0\n",
      "393.7007874015748\n",
      "10.936132983377078\n"
     ]
    }
   ],
   "source": [
    "m = float(input(\"Enter the meter: \"))\n",
    "\n",
    "centimeter = m*100\n",
    "inches = m/0.0254\n",
    "yard = m/0.9144\n",
    "\n",
    "print(centimeter)\n",
    "print(inches)\n",
    "print(yard)\n"
   ]
  },
  {
   "cell_type": "code",
   "execution_count": null,
   "id": "041433ba",
   "metadata": {},
   "outputs": [],
   "source": []
  },
  {
   "cell_type": "markdown",
   "id": "e27a628e",
   "metadata": {},
   "source": [
    "#Write a program to read Celsius temperature and print equivalent Fahrenheit temperature on screen."
   ]
  },
  {
   "cell_type": "code",
   "execution_count": 38,
   "id": "5e8d7c35",
   "metadata": {},
   "outputs": [
    {
     "name": "stdout",
     "output_type": "stream",
     "text": [
      "enter the celcius1\n",
      "33.8\n"
     ]
    }
   ],
   "source": [
    "celsius_1 = int(input(\"enter the celcius\"))\n",
    "fahrenheit = (celsius_1 * 1.8) + 32\n",
    "print(fahrenheit)\n",
    "           \n",
    "                "
   ]
  },
  {
   "cell_type": "code",
   "execution_count": 31,
   "id": "613a6736",
   "metadata": {},
   "outputs": [
    {
     "name": "stdout",
     "output_type": "stream",
     "text": [
      "98.60000000000001\n"
     ]
    }
   ],
   "source": [
    "celsius = 37\n",
    "fahrenheit = (celsius * 1.8) + 32\n",
    "print(fahrenheit)\n",
    "                "
   ]
  }
 ],
 "metadata": {
  "kernelspec": {
   "display_name": "Python 3 (ipykernel)",
   "language": "python",
   "name": "python3"
  },
  "language_info": {
   "codemirror_mode": {
    "name": "ipython",
    "version": 3
   },
   "file_extension": ".py",
   "mimetype": "text/x-python",
   "name": "python",
   "nbconvert_exporter": "python",
   "pygments_lexer": "ipython3",
   "version": "3.9.12"
  }
 },
 "nbformat": 4,
 "nbformat_minor": 5
}
